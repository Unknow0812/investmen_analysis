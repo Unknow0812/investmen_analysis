{
 "cells": [
  {
   "cell_type": "code",
   "execution_count": null,
   "metadata": {
    "collapsed": false
   },
   "outputs": [],
   "source": [
    "import urllib.request\n",
    "from bs4 import BeautifulSoup\n",
    "\n",
    "url = 'http://fund.eastmoney.com/allfund.html'\n",
    "html = urllib.request.urlopen(url)\n",
    "html = html.read()\n",
    "\n",
    "soup = BeautifulSoup(html, 'lxml')#如果使用lxml解析不完全请使用html5lib"
   ]
  },
  {
   "cell_type": "code",
   "execution_count": null,
   "metadata": {
    "collapsed": false
   },
   "outputs": [],
   "source": [
    "soup.select(\"#code_content\")[0]"
   ]
  },
  {
   "cell_type": "code",
   "execution_count": null,
   "metadata": {
    "collapsed": true
   },
   "outputs": [],
   "source": [
    "fund_codes = []\n",
    "for a in soup.select(\"#code_content\")[0].find_all(\"a\"):\n",
    "    try:\n",
    "        if('http://fund.eastmoney.com/' in a['href']):\n",
    "            fund_codes.append(a['href'].split(\"/\")[-1].split(\".\")[0])\n",
    "    except:\n",
    "        continue"
   ]
  },
  {
   "cell_type": "code",
   "execution_count": null,
   "metadata": {
    "collapsed": false,
    "scrolled": true
   },
   "outputs": [],
   "source": [
    "fund_codes"
   ]
  },
  {
   "cell_type": "code",
   "execution_count": null,
   "metadata": {
    "collapsed": false
   },
   "outputs": [],
   "source": [
    "import time\n",
    "html2 = urllib.request.urlopen('http://fundf10.eastmoney.com/FundArchivesDatas.aspx?type=jjcc&code='+fund_codes[0]+'&topline=500&year='+time.strftime(\"%Y\",time.localtime(time.time())))\n",
    "html2 = html2.read()\n",
    "soup2 = BeautifulSoup(html2, 'lxml')"
   ]
  },
  {
   "cell_type": "code",
   "execution_count": null,
   "metadata": {
    "collapsed": false
   },
   "outputs": [],
   "source": [
    "soup2.select(\".box\")[0].find_all(\"h4\")[0].select(\"label\")[0].a.text"
   ]
  },
  {
   "cell_type": "code",
   "execution_count": null,
   "metadata": {
    "collapsed": false
   },
   "outputs": [],
   "source": [
    "soup2.select(\".box\")[0].find_all(\"h4\")[0].select(\"label\")[1].font.text"
   ]
  },
  {
   "cell_type": "code",
   "execution_count": null,
   "metadata": {
    "collapsed": false
   },
   "outputs": [],
   "source": [
    "tmp = soup2.select(\".box\")[0].find_all(\"tbody\")[0].find_all(\"tr\")[0].select(\"td\")"
   ]
  },
  {
   "cell_type": "code",
   "execution_count": null,
   "metadata": {
    "collapsed": false
   },
   "outputs": [],
   "source": [
    "tmp"
   ]
  },
  {
   "cell_type": "code",
   "execution_count": null,
   "metadata": {
    "collapsed": false
   },
   "outputs": [],
   "source": [
    "len(tmp)"
   ]
  },
  {
   "cell_type": "code",
   "execution_count": null,
   "metadata": {
    "collapsed": false
   },
   "outputs": [],
   "source": [
    "#股票代码\n",
    "tmp[1].text"
   ]
  },
  {
   "cell_type": "code",
   "execution_count": null,
   "metadata": {
    "collapsed": false
   },
   "outputs": [],
   "source": [
    "#股票名称\n",
    "tmp[2].text"
   ]
  },
  {
   "cell_type": "code",
   "execution_count": null,
   "metadata": {
    "collapsed": false
   },
   "outputs": [],
   "source": [
    "#占净值比例\n",
    "tmp[6].text"
   ]
  },
  {
   "cell_type": "code",
   "execution_count": null,
   "metadata": {
    "collapsed": false
   },
   "outputs": [],
   "source": [
    "#持股数（万股）\n",
    "tmp[7].text"
   ]
  },
  {
   "cell_type": "code",
   "execution_count": null,
   "metadata": {
    "collapsed": false
   },
   "outputs": [],
   "source": [
    "#持仓市值（万元）\n",
    "tmp[8].text"
   ]
  },
  {
   "cell_type": "markdown",
   "metadata": {},
   "source": [
    "# 预处理实验完毕，接下来批处理"
   ]
  },
  {
   "cell_type": "code",
   "execution_count": null,
   "metadata": {
    "collapsed": false
   },
   "outputs": [],
   "source": [
    "import urllib.request\n",
    "from bs4 import BeautifulSoup\n",
    "import time\n",
    "\n",
    "url = 'http://fund.eastmoney.com/allfund.html'\n",
    "html = urllib.request.urlopen(url)\n",
    "html = html.read()\n",
    "\n",
    "soup = BeautifulSoup(html, 'lxml')#如果使用lxml解析不完全请使用html5lib\n",
    "\n",
    "fund_codes = []\n",
    "for a in soup.select(\"#code_content\")[0].find_all(\"a\"):\n",
    "    try:\n",
    "        if('http://fund.eastmoney.com/' in a['href']):\n",
    "            fund_codes.append(a['href'].split(\"/\")[-1].split(\".\")[0])\n",
    "    except:\n",
    "        continue\n",
    "\n",
    "fund_stocks = {'fund_code':[], 'fund_name' : [], 'deadline': [],\\\n",
    "                          'stock_code':[],'stock_name':[],'position_ratio':[],\\\n",
    "                          'number_shares':[],'stocks_value':[]}\n",
    "\n",
    "for code in fund_codes:\n",
    "    html2 = urllib.request.urlopen('http://fundf10.eastmoney.com/FundArchivesDatas.aspx?type=jjcc&code='+code+'&topline=500&year='+time.strftime(\"%Y\",time.localtime(time.time())))\n",
    "    html2 = html2.read()\n",
    "    soup2 = BeautifulSoup(html2, 'lxml')\n",
    "\n",
    "    for box in soup2.select(\".box\"):\n",
    "        fund_name = box.find_all(\"h4\")[0].select(\"label\")[0].a.text\n",
    "        deadline = box.find_all(\"h4\")[0].select(\"label\")[1].font.text\n",
    "        for stocks in box.find_all(\"tbody\"):\n",
    "            for stock in stocks.find_all(\"tr\"):\n",
    "                tmp = stock.select(\"td\")\n",
    "                stock_code = tmp[1].text\n",
    "                stock_name = tmp[2].text\n",
    "                tmp2 = stock.select(\".tor\")\n",
    "                if(len(tmp2) == 0):\n",
    "                    tmp2 = stock.select(\".toc\")\n",
    "                    if(len(tmp2) > 5):\n",
    "                        position_ratio = tmp2[4].text\n",
    "                        number_shares = tmp2[5].text\n",
    "                        stocks_value = tmp2[6].text\n",
    "                    else:\n",
    "                        position_ratio = tmp2[2].text\n",
    "                        number_shares = tmp2[3].text\n",
    "                        stocks_value = tmp2[4].text\n",
    "                else:\n",
    "                    if(len(tmp2) > 3):\n",
    "                        position_ratio = tmp2[2].text\n",
    "                        number_shares = tmp2[3].text\n",
    "                        stocks_value = tmp2[4].text\n",
    "                    else:\n",
    "                        position_ratio = tmp2[0].text\n",
    "                        number_shares = tmp2[1].text\n",
    "                        stocks_value = tmp2[2].text\n",
    "                fund_stocks['fund_code'].append(code)\n",
    "                fund_stocks['fund_name'].append(fund_name)\n",
    "                fund_stocks['deadline'].append(deadline)\n",
    "                fund_stocks['stock_code'].append(stock_code)\n",
    "                fund_stocks['stock_name'].append(stock_name)\n",
    "                fund_stocks['position_ratio'].append(position_ratio)\n",
    "                fund_stocks['number_shares'].append(number_shares)\n",
    "                fund_stocks['stocks_value'].append(stocks_value)"
   ]
  },
  {
   "cell_type": "code",
   "execution_count": null,
   "metadata": {
    "collapsed": false
   },
   "outputs": [],
   "source": [
    "import pandas as pd\n",
    "df = pd.DataFrame(fund_stocks)"
   ]
  },
  {
   "cell_type": "code",
   "execution_count": null,
   "metadata": {
    "collapsed": false,
    "scrolled": true
   },
   "outputs": [],
   "source": [
    "df"
   ]
  },
  {
   "cell_type": "code",
   "execution_count": null,
   "metadata": {
    "collapsed": true
   },
   "outputs": [],
   "source": [
    "df.to_csv(\"fund_stocks.csv\",index=False)"
   ]
  },
  {
   "cell_type": "code",
   "execution_count": null,
   "metadata": {
    "collapsed": false,
    "scrolled": true
   },
   "outputs": [],
   "source": [
    "len(df['fund_name'].unique())"
   ]
  },
  {
   "cell_type": "markdown",
   "metadata": {},
   "source": [
    "## 股票重仓基金数"
   ]
  },
  {
   "cell_type": "code",
   "execution_count": null,
   "metadata": {
    "collapsed": false,
    "scrolled": true
   },
   "outputs": [],
   "source": [
    "stock_fund_num_latest = df[df[\"deadline\"] == '2020-09-30'][['fund_name','stock_name']].groupby(['stock_name']).count().sort_values(by='fund_name',ascending=False)\n",
    "stock_fund_num_latest"
   ]
  },
  {
   "cell_type": "markdown",
   "metadata": {},
   "source": [
    "## 上个季度持仓数"
   ]
  },
  {
   "cell_type": "code",
   "execution_count": null,
   "metadata": {
    "collapsed": false,
    "scrolled": true
   },
   "outputs": [],
   "source": [
    "stock_fund_num_last = df[df[\"deadline\"] == '2020-06-30'][['fund_name','stock_name']].groupby(['stock_name']).count().sort_values(by='fund_name',ascending=False)\n",
    "stock_fund_num_last"
   ]
  },
  {
   "cell_type": "markdown",
   "metadata": {},
   "source": [
    "## 与上个季度建仓基金数比较"
   ]
  },
  {
   "cell_type": "code",
   "execution_count": null,
   "metadata": {
    "collapsed": false
   },
   "outputs": [],
   "source": [
    "stock_fund_num_latest = stock_fund_num_latest.reset_index()\n",
    "stock_fund_num_latest.columns = ['stock_name','fund_num_2020-09-30']\n",
    "stock_fund_num_last = stock_fund_num_last.reset_index()\n",
    "stock_fund_num_last.columns = ['stock_name', 'fund_num_2020_06_30']"
   ]
  },
  {
   "cell_type": "code",
   "execution_count": null,
   "metadata": {
    "collapsed": false,
    "scrolled": true
   },
   "outputs": [],
   "source": [
    "stock_fund_compare = pd.merge(stock_fund_num_last,stock_fund_num_latest, on = 'stock_name')\n",
    "stock_fund_compare['increase'] = stock_fund_compare['fund_num_2020-09-30'] - stock_fund_compare['fund_num_2020_06_30']\n",
    "stock_fund_compare.sort_values(by=\"increase\",ascending=False)"
   ]
  },
  {
   "cell_type": "code",
   "execution_count": null,
   "metadata": {
    "collapsed": false
   },
   "outputs": [],
   "source": [
    "stock_fund_compare[stock_fund_compare['stock_name'] == '隆基股份']"
   ]
  },
  {
   "cell_type": "markdown",
   "metadata": {},
   "source": [
    "## 基金总持仓股数比较（万股）"
   ]
  },
  {
   "cell_type": "code",
   "execution_count": null,
   "metadata": {
    "collapsed": true
   },
   "outputs": [],
   "source": []
  },
  {
   "cell_type": "code",
   "execution_count": null,
   "metadata": {
    "collapsed": true
   },
   "outputs": [],
   "source": []
  }
 ],
 "metadata": {
  "kernelspec": {
   "display_name": "Python [Root]",
   "language": "python",
   "name": "Python [Root]"
  },
  "language_info": {
   "codemirror_mode": {
    "name": "ipython",
    "version": 3
   },
   "file_extension": ".py",
   "mimetype": "text/x-python",
   "name": "python",
   "nbconvert_exporter": "python",
   "pygments_lexer": "ipython3",
   "version": "3.5.1"
  }
 },
 "nbformat": 4,
 "nbformat_minor": 0
}
